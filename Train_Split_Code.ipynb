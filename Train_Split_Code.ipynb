{
  "nbformat": 4,
  "nbformat_minor": 0,
  "metadata": {
    "colab": {
      "name": "Train Split Code.ipynb",
      "provenance": [],
      "authorship_tag": "ABX9TyPadHAMJnJ3sWML9167xHAb",
      "include_colab_link": true
    },
    "kernelspec": {
      "name": "python3",
      "display_name": "Python 3"
    },
    "language_info": {
      "name": "python"
    }
  },
  "cells": [
    {
      "cell_type": "markdown",
      "metadata": {
        "id": "view-in-github",
        "colab_type": "text"
      },
      "source": [
        "<a href=\"https://colab.research.google.com/github/mrinalxagarwal/Biometrics-Project-Fall2021/blob/master/Train_Split_Code.ipynb\" target=\"_parent\"><img src=\"https://colab.research.google.com/assets/colab-badge.svg\" alt=\"Open In Colab\"/></a>"
      ]
    },
    {
      "cell_type": "code",
      "metadata": {
        "id": "5-KSVRYCEyhL",
        "colab": {
          "base_uri": "https://localhost:8080/"
        },
        "outputId": "55fa4ec6-483d-4814-a1e7-0d07c79ce5a2"
      },
      "source": [
        "from google.colab import drive\n",
        "drive.mount('/content/gdrive')"
      ],
      "execution_count": 1,
      "outputs": [
        {
          "output_type": "stream",
          "name": "stdout",
          "text": [
            "Mounted at /content/gdrive\n"
          ]
        }
      ]
    },
    {
      "cell_type": "code",
      "metadata": {
        "id": "Uo35FzpZLOHK"
      },
      "source": [
        ""
      ],
      "execution_count": null,
      "outputs": []
    },
    {
      "cell_type": "code",
      "metadata": {
        "id": "G3VxIGCHsuGZ"
      },
      "source": [
        "train=\"/content/gdrive/MyDrive/Signature Databases Final/train\"\n",
        "test=\"/content/gdrive/MyDrive/Signature Databases Final/test\""
      ],
      "execution_count": 2,
      "outputs": []
    },
    {
      "cell_type": "code",
      "metadata": {
        "id": "aSP-WS5vLpzM"
      },
      "source": [
        "import pandas as pd\n",
        "import numpy as np\n",
        "import skimage.io as sk\n",
        "import cv2\n",
        "import matplotlib.pyplot as plt\n",
        "import os\n",
        "from skimage import io\n",
        "from skimage.color import rgb2gray\n",
        "from skimage.transform import resize\n",
        "import tensorflow as tf\n",
        "from tensorflow.keras.preprocessing.image import ImageDataGenerator\n",
        "from tensorflow.keras.layers import Dense, Flatten, Input, Lambda, MaxPooling2D, Conv2D, Dropout, BatchNormalization\n",
        "from tensorflow.keras.models import Model,Sequential\n",
        "from tensorflow.keras.applications.resnet50 import ResNet50\n",
        "from tensorflow.keras.preprocessing import image\n",
        "from sklearn.model_selection import train_test_split"
      ],
      "execution_count": 3,
      "outputs": []
    },
    {
      "cell_type": "code",
      "metadata": {
        "colab": {
          "base_uri": "https://localhost:8080/"
        },
        "id": "X4ki0ZftrhMl",
        "outputId": "b49ff9ce-d373-450f-8ad1-f6db4396d1ba"
      },
      "source": [
        "datagen = ImageDataGenerator(\n",
        "rotation_range=15,\n",
        "rescale=1./255,\n",
        "shear_range=0.1,\n",
        "zoom_range=0.2,\n",
        "horizontal_flip=True,\n",
        "width_shift_range=0.1,\n",
        "height_shift_range=0.1,)\n",
        "train_generator = datagen.flow_from_directory(\n",
        "    directory=\"/content/gdrive/MyDrive/Signature Databases Final/train\",\n",
        "    target_size=(512, 512),\n",
        "    color_mode=\"grayscale\",\n",
        "    batch_size=32,\n",
        "    class_mode=\"categorical\",\n",
        "    shuffle=True,\n",
        "    seed=42\n",
        ")"
      ],
      "execution_count": 4,
      "outputs": [
        {
          "output_type": "stream",
          "name": "stdout",
          "text": [
            "Found 1516 images belonging to 2 classes.\n"
          ]
        }
      ]
    },
    {
      "cell_type": "code",
      "metadata": {
        "colab": {
          "base_uri": "https://localhost:8080/"
        },
        "id": "5_oZUwJjMUB1",
        "outputId": "55478705-8b92-471d-a8e0-d3e574cdd069"
      },
      "source": [
        "test_datagen = ImageDataGenerator(rescale=1./255)\n",
        "test_generator = test_datagen.flow_from_directory(directory=\"/content/gdrive/MyDrive/Signature Databases Final/test\",\n",
        "    target_size=(512, 512),\n",
        "    color_mode=\"grayscale\",\n",
        "    batch_size=15,\n",
        "    class_mode=\"categorical\",\n",
        "    shuffle=True,\n",
        "    seed=42\n",
        ")"
      ],
      "execution_count": 5,
      "outputs": [
        {
          "output_type": "stream",
          "name": "stdout",
          "text": [
            "Found 379 images belonging to 2 classes.\n"
          ]
        }
      ]
    },
    {
      "cell_type": "code",
      "metadata": {
        "id": "alrkSvYjMfH2"
      },
      "source": [
        "model = Sequential()\n",
        "\n",
        "## Conv layer 1\n",
        "model.add(Conv2D(32, (3,3), activation='relu', input_shape=(512,512, 1)))\n",
        "model.add(BatchNormalization())\n",
        "model.add(MaxPooling2D(pool_size=(2,2)))\n",
        "model.add(Dropout(0.25))\n",
        "\n",
        "## Conv layer 2\n",
        "model.add(Conv2D(64, (3,3), activation='relu'))\n",
        "model.add(BatchNormalization())\n",
        "model.add(MaxPooling2D(pool_size=(2,2)))\n",
        "model.add(Dropout(0.25))\n",
        "\n",
        "## Conv layer 3\n",
        "model.add(Conv2D(128, (3,3), activation='relu'))\n",
        "model.add(BatchNormalization())\n",
        "model.add(MaxPooling2D(pool_size=(2,2)))\n",
        "model.add(Dropout(0.25))\n",
        "\n",
        "## Conv layer 4\n",
        "model.add(Conv2D(256, (3,3), activation='relu'))\n",
        "model.add(BatchNormalization())\n",
        "model.add(MaxPooling2D(pool_size=(2,2)))\n",
        "model.add(Dropout(0.25))\n",
        "\n",
        "## Conv layer 5\n",
        "model.add(Conv2D(256, (3,3), activation='relu'))\n",
        "model.add(BatchNormalization())\n",
        "model.add(MaxPooling2D(pool_size=(2,2)))\n",
        "model.add(Dropout(0.25))\n",
        "\n",
        "## Conv layer 6\n",
        "model.add(Conv2D(512, (3,3), activation='relu'))\n",
        "model.add(BatchNormalization())\n",
        "model.add(MaxPooling2D(pool_size=(2,2)))\n",
        "model.add(Dropout(0.25))\n",
        "\n",
        "model.add(Flatten())\n",
        "model.add(Dense(256,activation='relu'))\n",
        "model.add(BatchNormalization())\n",
        "model.add(Dropout(0.5))\n",
        "\n",
        "model.add(Dense(2, activation='softmax'))\n",
        "model.compile(loss='categorical_crossentropy', optimizer='adam', metrics=['accuracy'])"
      ],
      "execution_count": 6,
      "outputs": []
    },
    {
      "cell_type": "code",
      "metadata": {
        "colab": {
          "base_uri": "https://localhost:8080/"
        },
        "id": "I6At8ISuMjfb",
        "outputId": "2285e7ed-6a5a-4f84-d8be-5d7b025124a2"
      },
      "source": [
        "model.summary()\n"
      ],
      "execution_count": 7,
      "outputs": [
        {
          "output_type": "stream",
          "name": "stdout",
          "text": [
            "Model: \"sequential\"\n",
            "_________________________________________________________________\n",
            " Layer (type)                Output Shape              Param #   \n",
            "=================================================================\n",
            " conv2d (Conv2D)             (None, 510, 510, 32)      320       \n",
            "                                                                 \n",
            " batch_normalization (BatchN  (None, 510, 510, 32)     128       \n",
            " ormalization)                                                   \n",
            "                                                                 \n",
            " max_pooling2d (MaxPooling2D  (None, 255, 255, 32)     0         \n",
            " )                                                               \n",
            "                                                                 \n",
            " dropout (Dropout)           (None, 255, 255, 32)      0         \n",
            "                                                                 \n",
            " conv2d_1 (Conv2D)           (None, 253, 253, 64)      18496     \n",
            "                                                                 \n",
            " batch_normalization_1 (Batc  (None, 253, 253, 64)     256       \n",
            " hNormalization)                                                 \n",
            "                                                                 \n",
            " max_pooling2d_1 (MaxPooling  (None, 126, 126, 64)     0         \n",
            " 2D)                                                             \n",
            "                                                                 \n",
            " dropout_1 (Dropout)         (None, 126, 126, 64)      0         \n",
            "                                                                 \n",
            " conv2d_2 (Conv2D)           (None, 124, 124, 128)     73856     \n",
            "                                                                 \n",
            " batch_normalization_2 (Batc  (None, 124, 124, 128)    512       \n",
            " hNormalization)                                                 \n",
            "                                                                 \n",
            " max_pooling2d_2 (MaxPooling  (None, 62, 62, 128)      0         \n",
            " 2D)                                                             \n",
            "                                                                 \n",
            " dropout_2 (Dropout)         (None, 62, 62, 128)       0         \n",
            "                                                                 \n",
            " conv2d_3 (Conv2D)           (None, 60, 60, 256)       295168    \n",
            "                                                                 \n",
            " batch_normalization_3 (Batc  (None, 60, 60, 256)      1024      \n",
            " hNormalization)                                                 \n",
            "                                                                 \n",
            " max_pooling2d_3 (MaxPooling  (None, 30, 30, 256)      0         \n",
            " 2D)                                                             \n",
            "                                                                 \n",
            " dropout_3 (Dropout)         (None, 30, 30, 256)       0         \n",
            "                                                                 \n",
            " conv2d_4 (Conv2D)           (None, 28, 28, 256)       590080    \n",
            "                                                                 \n",
            " batch_normalization_4 (Batc  (None, 28, 28, 256)      1024      \n",
            " hNormalization)                                                 \n",
            "                                                                 \n",
            " max_pooling2d_4 (MaxPooling  (None, 14, 14, 256)      0         \n",
            " 2D)                                                             \n",
            "                                                                 \n",
            " dropout_4 (Dropout)         (None, 14, 14, 256)       0         \n",
            "                                                                 \n",
            " conv2d_5 (Conv2D)           (None, 12, 12, 512)       1180160   \n",
            "                                                                 \n",
            " batch_normalization_5 (Batc  (None, 12, 12, 512)      2048      \n",
            " hNormalization)                                                 \n",
            "                                                                 \n",
            " max_pooling2d_5 (MaxPooling  (None, 6, 6, 512)        0         \n",
            " 2D)                                                             \n",
            "                                                                 \n",
            " dropout_5 (Dropout)         (None, 6, 6, 512)         0         \n",
            "                                                                 \n",
            " flatten (Flatten)           (None, 18432)             0         \n",
            "                                                                 \n",
            " dense (Dense)               (None, 256)               4718848   \n",
            "                                                                 \n",
            " batch_normalization_6 (Batc  (None, 256)              1024      \n",
            " hNormalization)                                                 \n",
            "                                                                 \n",
            " dropout_6 (Dropout)         (None, 256)               0         \n",
            "                                                                 \n",
            " dense_1 (Dense)             (None, 2)                 514       \n",
            "                                                                 \n",
            "=================================================================\n",
            "Total params: 6,883,458\n",
            "Trainable params: 6,880,450\n",
            "Non-trainable params: 3,008\n",
            "_________________________________________________________________\n"
          ]
        }
      ]
    },
    {
      "cell_type": "code",
      "metadata": {
        "id": "2QzOHHOGMkAB"
      },
      "source": [
        "from keras.callbacks import EarlyStopping, ReduceLROnPlateau\n",
        "\n",
        "early_stop = EarlyStopping(patience=10)\n",
        "learning_rate_reduction = ReduceLROnPlateau(monitor='val_acc', patience=2, verbose=1, factor=0.5, min_lr=0.00001)\n",
        "callbacks = [early_stop, learning_rate_reduction]"
      ],
      "execution_count": 8,
      "outputs": []
    },
    {
      "cell_type": "code",
      "metadata": {
        "colab": {
          "base_uri": "https://localhost:8080/"
        },
        "id": "PhETyf_mMrtV",
        "outputId": "9e8518a8-3a05-4c7f-e9c0-465148993174"
      },
      "source": [
        "history = model.fit(train_generator,\n",
        "                             epochs=10,\n",
        "                             validation_data=test_generator,\n",
        "                             validation_steps=len(test_generator),\n",
        "                             steps_per_epoch=len(train_generator),\n",
        "                             callbacks=callbacks)"
      ],
      "execution_count": 10,
      "outputs": [
        {
          "output_type": "stream",
          "name": "stdout",
          "text": [
            "Epoch 1/10\n",
            "48/48 [==============================] - ETA: 0s - loss: 0.8454 - accuracy: 0.6563 WARNING:tensorflow:Learning rate reduction is conditioned on metric `val_acc` which is not available. Available metrics are: loss,accuracy,val_loss,val_accuracy,lr\n",
            "48/48 [==============================] - 1421s 29s/step - loss: 0.8454 - accuracy: 0.6563 - val_loss: 4.1281 - val_accuracy: 0.0317 - lr: 0.0010\n",
            "Epoch 2/10\n",
            "48/48 [==============================] - ETA: 0s - loss: 0.4251 - accuracy: 0.8305 WARNING:tensorflow:Learning rate reduction is conditioned on metric `val_acc` which is not available. Available metrics are: loss,accuracy,val_loss,val_accuracy,lr\n",
            "48/48 [==============================] - 1397s 29s/step - loss: 0.4251 - accuracy: 0.8305 - val_loss: 0.1593 - val_accuracy: 0.9683 - lr: 0.0010\n",
            "Epoch 3/10\n",
            "48/48 [==============================] - ETA: 0s - loss: 0.2711 - accuracy: 0.9123 WARNING:tensorflow:Learning rate reduction is conditioned on metric `val_acc` which is not available. Available metrics are: loss,accuracy,val_loss,val_accuracy,lr\n",
            "48/48 [==============================] - 1392s 29s/step - loss: 0.2711 - accuracy: 0.9123 - val_loss: 0.1535 - val_accuracy: 0.9683 - lr: 0.0010\n",
            "Epoch 4/10\n",
            "48/48 [==============================] - ETA: 0s - loss: 0.2220 - accuracy: 0.9420 WARNING:tensorflow:Learning rate reduction is conditioned on metric `val_acc` which is not available. Available metrics are: loss,accuracy,val_loss,val_accuracy,lr\n",
            "48/48 [==============================] - 1402s 29s/step - loss: 0.2220 - accuracy: 0.9420 - val_loss: 0.1458 - val_accuracy: 0.9683 - lr: 0.0010\n",
            "Epoch 5/10\n",
            "48/48 [==============================] - ETA: 0s - loss: 0.1899 - accuracy: 0.9532 WARNING:tensorflow:Learning rate reduction is conditioned on metric `val_acc` which is not available. Available metrics are: loss,accuracy,val_loss,val_accuracy,lr\n",
            "48/48 [==============================] - 1405s 29s/step - loss: 0.1899 - accuracy: 0.9532 - val_loss: 2.2596 - val_accuracy: 0.9683 - lr: 0.0010\n",
            "Epoch 6/10\n",
            "48/48 [==============================] - ETA: 0s - loss: 0.1954 - accuracy: 0.9565 WARNING:tensorflow:Learning rate reduction is conditioned on metric `val_acc` which is not available. Available metrics are: loss,accuracy,val_loss,val_accuracy,lr\n",
            "48/48 [==============================] - 1400s 29s/step - loss: 0.1954 - accuracy: 0.9565 - val_loss: 5.9165 - val_accuracy: 0.9683 - lr: 0.0010\n",
            "Epoch 7/10\n",
            "48/48 [==============================] - ETA: 0s - loss: 0.1630 - accuracy: 0.9604 WARNING:tensorflow:Learning rate reduction is conditioned on metric `val_acc` which is not available. Available metrics are: loss,accuracy,val_loss,val_accuracy,lr\n",
            "48/48 [==============================] - 1398s 29s/step - loss: 0.1630 - accuracy: 0.9604 - val_loss: 10.6480 - val_accuracy: 0.9683 - lr: 0.0010\n",
            "Epoch 8/10\n",
            "48/48 [==============================] - ETA: 0s - loss: 0.1547 - accuracy: 0.9604 WARNING:tensorflow:Learning rate reduction is conditioned on metric `val_acc` which is not available. Available metrics are: loss,accuracy,val_loss,val_accuracy,lr\n",
            "48/48 [==============================] - 1407s 30s/step - loss: 0.1547 - accuracy: 0.9604 - val_loss: 15.3167 - val_accuracy: 0.9683 - lr: 0.0010\n",
            "Epoch 9/10\n",
            "48/48 [==============================] - ETA: 0s - loss: 0.1625 - accuracy: 0.9637 WARNING:tensorflow:Learning rate reduction is conditioned on metric `val_acc` which is not available. Available metrics are: loss,accuracy,val_loss,val_accuracy,lr\n",
            "48/48 [==============================] - 1402s 29s/step - loss: 0.1625 - accuracy: 0.9637 - val_loss: 21.0936 - val_accuracy: 0.9683 - lr: 0.0010\n",
            "Epoch 10/10\n",
            "48/48 [==============================] - ETA: 0s - loss: 0.1628 - accuracy: 0.9644 WARNING:tensorflow:Learning rate reduction is conditioned on metric `val_acc` which is not available. Available metrics are: loss,accuracy,val_loss,val_accuracy,lr\n",
            "48/48 [==============================] - 1404s 29s/step - loss: 0.1628 - accuracy: 0.9644 - val_loss: 30.1123 - val_accuracy: 0.9683 - lr: 0.0010\n"
          ]
        }
      ]
    },
    {
      "cell_type": "code",
      "metadata": {
        "colab": {
          "base_uri": "https://localhost:8080/",
          "height": 462
        },
        "id": "V4Gadg9b_yD7",
        "outputId": "d85186ba-d933-4cd5-9667-5d76aa9dda81"
      },
      "source": [
        "plt.figure(figsize=(10,7))\n",
        "plt.plot(history.history['loss'], label='train loss')\n",
        "plt.plot(history.history['val_loss'], label='val loss')\n",
        "plt.plot(history.history['accuracy'], label='train_acc')\n",
        "plt.plot(history.history['val_accuracy'], label='val_acc')\n",
        "plt.title(\"Training Loss and Accuracy on Signature Dataset\")\n",
        "plt.legend()\n",
        "plt.show()\n",
        "plt.savefig('lossval_loss2')"
      ],
      "execution_count": 11,
      "outputs": [
        {
          "output_type": "display_data",
          "data": {
            "image/png": "[encoded data removed]",
            "text/plain": [
              "<Figure size 720x504 with 1 Axes>"
            ]
          },
          "metadata": {
            "needs_background": "light"
          }
        },
        {
          "output_type": "display_data",
          "data": {
            "text/plain": [
              "<Figure size 432x288 with 0 Axes>"
            ]
          },
          "metadata": {}
        }
      ]
    },
    {
      "cell_type": "code",
      "metadata": {
        "id": "C5bwAWIx_z2w"
      },
      "source": [
        "from tensorflow.keras.models import load_model\n",
        "\n",
        "model.save('forge_real_signature_model_FINAL.h5')"
      ],
      "execution_count": 12,
      "outputs": []
    }
  ]
}