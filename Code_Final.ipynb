{
  "nbformat": 4,
  "nbformat_minor": 0,
  "metadata": {
    "colab": {
      "name": "Code Final.ipynb",
      "provenance": [],
      "authorship_tag": "ABX9TyOgoHOT8u8jiHNILJ28qKnx",
      "include_colab_link": true
    },
    "kernelspec": {
      "name": "python3",
      "display_name": "Python 3"
    },
    "language_info": {
      "name": "python"
    }
  },
  "cells": [
    {
      "cell_type": "markdown",
      "metadata": {
        "id": "view-in-github",
        "colab_type": "text"
      },
      "source": [
        "<a href=\"https://colab.research.google.com/github/mrinalxagarwal/Biometrics-Project-Fall2021/blob/master/Code_Final.ipynb\" target=\"_parent\"><img src=\"https://colab.research.google.com/assets/colab-badge.svg\" alt=\"Open In Colab\"/></a>"
      ]
    },
    {
      "cell_type": "code",
      "metadata": {
        "colab": {
          "base_uri": "https://localhost:8080/"
        },
        "id": "VR-Nbzhir6Rg",
        "outputId": "2a775482-5abd-4a66-ae79-f019d7052884"
      },
      "source": [
        "from google.colab import drive\n",
        "drive.mount('/content/gdrive')"
      ],
      "execution_count": 1,
      "outputs": [
        {
          "output_type": "stream",
          "name": "stdout",
          "text": [
            "Mounted at /content/gdrive\n"
          ]
        }
      ]
    },
    {
      "cell_type": "code",
      "metadata": {
        "id": "G3VxIGCHsuGZ"
      },
      "source": [
        "train=\"/content/gdrive/MyDrive/Signature Databases/train\"\n",
        "test=\"/content/gdrive/MyDrive/Signature Databases/test\""
      ],
      "execution_count": 2,
      "outputs": []
    },
    {
      "cell_type": "code",
      "metadata": {
        "id": "C--7_l4nre6H"
      },
      "source": [
        "import pandas as pd\n",
        "import numpy as np\n",
        "import skimage.io as sk\n",
        "import cv2\n",
        "import matplotlib.pyplot as plt\n",
        "import os\n",
        "from skimage import io\n",
        "from skimage.color import rgb2gray\n",
        "from skimage.transform import resize\n",
        "import tensorflow as tf\n",
        "from tensorflow.keras.preprocessing.image import ImageDataGenerator\n",
        "from tensorflow.keras.layers import Dense, Flatten, Input, Lambda, MaxPooling2D, Conv2D, Dropout, BatchNormalization\n",
        "from tensorflow.keras.models import Model,Sequential\n",
        "from tensorflow.keras.applications.resnet50 import ResNet50\n",
        "from tensorflow.keras.preprocessing import image\n",
        "from sklearn.model_selection import train_test_split"
      ],
      "execution_count": 3,
      "outputs": []
    },
    {
      "cell_type": "code",
      "metadata": {
        "colab": {
          "base_uri": "https://localhost:8080/"
        },
        "id": "X4ki0ZftrhMl",
        "outputId": "89a10b6d-f733-42ec-cd2b-f27df3d04501"
      },
      "source": [
        "datagen = ImageDataGenerator(\n",
        "rotation_range=15,\n",
        "rescale=1./255,\n",
        "shear_range=0.1,\n",
        "zoom_range=0.2,\n",
        "horizontal_flip=True,\n",
        "width_shift_range=0.1,\n",
        "height_shift_range=0.1,)\n",
        "train_generator = datagen.flow_from_directory(\n",
        "    directory=\"/content/gdrive/MyDrive/Signature Databases/train\",\n",
        "    target_size=(512, 512),\n",
        "    color_mode=\"grayscale\",\n",
        "    batch_size=32,\n",
        "    class_mode=\"categorical\",\n",
        "    shuffle=True,\n",
        "    seed=42\n",
        ")"
      ],
      "execution_count": 4,
      "outputs": [
        {
          "output_type": "stream",
          "name": "stdout",
          "text": [
            "Found 1898 images belonging to 2 classes.\n"
          ]
        }
      ]
    },
    {
      "cell_type": "code",
      "metadata": {
        "colab": {
          "base_uri": "https://localhost:8080/"
        },
        "id": "aG-d4Yn2rqGm",
        "outputId": "9052a8b1-8c21-4c59-f783-aba0e97b789f"
      },
      "source": [
        "test_datagen = ImageDataGenerator(rescale=1./255)\n",
        "test_generator = test_datagen.flow_from_directory(directory=\"/content/gdrive/MyDrive/Signature Databases/test\",\n",
        "    target_size=(512, 512),\n",
        "    color_mode=\"grayscale\",\n",
        "    batch_size=15,\n",
        "    class_mode=\"categorical\",\n",
        "    shuffle=True,\n",
        "    seed=42\n",
        ")"
      ],
      "execution_count": 5,
      "outputs": [
        {
          "output_type": "stream",
          "name": "stdout",
          "text": [
            "Found 1564 images belonging to 2 classes.\n"
          ]
        }
      ]
    },
    {
      "cell_type": "code",
      "metadata": {
        "id": "6HYZLb6Cr5Pw"
      },
      "source": [
        "model = Sequential()\n",
        "\n",
        "## Conv layer 1\n",
        "model.add(Conv2D(32, (3,3), activation='relu', input_shape=(512,512, 1)))\n",
        "model.add(BatchNormalization())\n",
        "model.add(MaxPooling2D(pool_size=(2,2)))\n",
        "model.add(Dropout(0.25))\n",
        "\n",
        "## Conv layer 2\n",
        "model.add(Conv2D(64, (3,3), activation='relu'))\n",
        "model.add(BatchNormalization())\n",
        "model.add(MaxPooling2D(pool_size=(2,2)))\n",
        "model.add(Dropout(0.25))\n",
        "\n",
        "## Conv layer 3\n",
        "model.add(Conv2D(128, (3,3), activation='relu'))\n",
        "model.add(BatchNormalization())\n",
        "model.add(MaxPooling2D(pool_size=(2,2)))\n",
        "model.add(Dropout(0.25))\n",
        "\n",
        "## Conv layer 4\n",
        "model.add(Conv2D(256, (3,3), activation='relu'))\n",
        "model.add(BatchNormalization())\n",
        "model.add(MaxPooling2D(pool_size=(2,2)))\n",
        "model.add(Dropout(0.25))\n",
        "\n",
        "## Conv layer 5\n",
        "model.add(Conv2D(256, (3,3), activation='relu'))\n",
        "model.add(BatchNormalization())\n",
        "model.add(MaxPooling2D(pool_size=(2,2)))\n",
        "model.add(Dropout(0.25))\n",
        "\n",
        "## Conv layer 6\n",
        "model.add(Conv2D(512, (3,3), activation='relu'))\n",
        "model.add(BatchNormalization())\n",
        "model.add(MaxPooling2D(pool_size=(2,2)))\n",
        "model.add(Dropout(0.25))\n",
        "\n",
        "model.add(Flatten())\n",
        "model.add(Dense(256,activation='relu'))\n",
        "model.add(BatchNormalization())\n",
        "model.add(Dropout(0.5))\n",
        "\n",
        "model.add(Dense(2, activation='softmax'))\n",
        "model.compile(loss='categorical_crossentropy', optimizer='adam', metrics=['accuracy'])"
      ],
      "execution_count": 6,
      "outputs": []
    },
    {
      "cell_type": "code",
      "metadata": {
        "colab": {
          "base_uri": "https://localhost:8080/"
        },
        "id": "HVJKguO_tjIF",
        "outputId": "e3cf8092-4701-4068-e1b0-3c4fb83381eb"
      },
      "source": [
        "model.summary()\n"
      ],
      "execution_count": 7,
      "outputs": [
        {
          "output_type": "stream",
          "name": "stdout",
          "text": [
            "Model: \"sequential\"\n",
            "_________________________________________________________________\n",
            " Layer (type)                Output Shape              Param #   \n",
            "=================================================================\n",
            " conv2d (Conv2D)             (None, 510, 510, 32)      320       \n",
            "                                                                 \n",
            " batch_normalization (BatchN  (None, 510, 510, 32)     128       \n",
            " ormalization)                                                   \n",
            "                                                                 \n",
            " max_pooling2d (MaxPooling2D  (None, 255, 255, 32)     0         \n",
            " )                                                               \n",
            "                                                                 \n",
            " dropout (Dropout)           (None, 255, 255, 32)      0         \n",
            "                                                                 \n",
            " conv2d_1 (Conv2D)           (None, 253, 253, 64)      18496     \n",
            "                                                                 \n",
            " batch_normalization_1 (Batc  (None, 253, 253, 64)     256       \n",
            " hNormalization)                                                 \n",
            "                                                                 \n",
            " max_pooling2d_1 (MaxPooling  (None, 126, 126, 64)     0         \n",
            " 2D)                                                             \n",
            "                                                                 \n",
            " dropout_1 (Dropout)         (None, 126, 126, 64)      0         \n",
            "                                                                 \n",
            " conv2d_2 (Conv2D)           (None, 124, 124, 128)     73856     \n",
            "                                                                 \n",
            " batch_normalization_2 (Batc  (None, 124, 124, 128)    512       \n",
            " hNormalization)                                                 \n",
            "                                                                 \n",
            " max_pooling2d_2 (MaxPooling  (None, 62, 62, 128)      0         \n",
            " 2D)                                                             \n",
            "                                                                 \n",
            " dropout_2 (Dropout)         (None, 62, 62, 128)       0         \n",
            "                                                                 \n",
            " conv2d_3 (Conv2D)           (None, 60, 60, 256)       295168    \n",
            "                                                                 \n",
            " batch_normalization_3 (Batc  (None, 60, 60, 256)      1024      \n",
            " hNormalization)                                                 \n",
            "                                                                 \n",
            " max_pooling2d_3 (MaxPooling  (None, 30, 30, 256)      0         \n",
            " 2D)                                                             \n",
            "                                                                 \n",
            " dropout_3 (Dropout)         (None, 30, 30, 256)       0         \n",
            "                                                                 \n",
            " conv2d_4 (Conv2D)           (None, 28, 28, 256)       590080    \n",
            "                                                                 \n",
            " batch_normalization_4 (Batc  (None, 28, 28, 256)      1024      \n",
            " hNormalization)                                                 \n",
            "                                                                 \n",
            " max_pooling2d_4 (MaxPooling  (None, 14, 14, 256)      0         \n",
            " 2D)                                                             \n",
            "                                                                 \n",
            " dropout_4 (Dropout)         (None, 14, 14, 256)       0         \n",
            "                                                                 \n",
            " conv2d_5 (Conv2D)           (None, 12, 12, 512)       1180160   \n",
            "                                                                 \n",
            " batch_normalization_5 (Batc  (None, 12, 12, 512)      2048      \n",
            " hNormalization)                                                 \n",
            "                                                                 \n",
            " max_pooling2d_5 (MaxPooling  (None, 6, 6, 512)        0         \n",
            " 2D)                                                             \n",
            "                                                                 \n",
            " dropout_5 (Dropout)         (None, 6, 6, 512)         0         \n",
            "                                                                 \n",
            " flatten (Flatten)           (None, 18432)             0         \n",
            "                                                                 \n",
            " dense (Dense)               (None, 256)               4718848   \n",
            "                                                                 \n",
            " batch_normalization_6 (Batc  (None, 256)              1024      \n",
            " hNormalization)                                                 \n",
            "                                                                 \n",
            " dropout_6 (Dropout)         (None, 256)               0         \n",
            "                                                                 \n",
            " dense_1 (Dense)             (None, 2)                 514       \n",
            "                                                                 \n",
            "=================================================================\n",
            "Total params: 6,883,458\n",
            "Trainable params: 6,880,450\n",
            "Non-trainable params: 3,008\n",
            "_________________________________________________________________\n"
          ]
        }
      ]
    },
    {
      "cell_type": "code",
      "metadata": {
        "id": "QIG_ENuctz5e"
      },
      "source": [
        "from keras.callbacks import EarlyStopping, ReduceLROnPlateau\n",
        "\n",
        "early_stop = EarlyStopping(patience=10)\n",
        "learning_rate_reduction = ReduceLROnPlateau(monitor='val_acc', patience=2, verbose=1, factor=0.5, min_lr=0.00001)\n",
        "callbacks = [early_stop, learning_rate_reduction]"
      ],
      "execution_count": 8,
      "outputs": []
    },
    {
      "cell_type": "code",
      "metadata": {
        "colab": {
          "base_uri": "https://localhost:8080/"
        },
        "id": "wu5PYMedt2Kr",
        "outputId": "43aa2b63-225d-4d14-ca0e-d2d46991596d"
      },
      "source": [
        "history = model.fit_generator(train_generator,\n",
        "                             epochs=10,\n",
        "                             validation_data=test_generator,\n",
        "                             validation_steps=len(test_generator),\n",
        "                             steps_per_epoch=len(train_generator),\n",
        "                             callbacks=callbacks)"
      ],
      "execution_count": 11,
      "outputs": [
        {
          "output_type": "stream",
          "name": "stderr",
          "text": [
            "/usr/local/lib/python3.7/dist-packages/ipykernel_launcher.py:6: UserWarning: `Model.fit_generator` is deprecated and will be removed in a future version. Please use `Model.fit`, which supports generators.\n",
            "  \n"
          ]
        },
        {
          "output_type": "stream",
          "name": "stdout",
          "text": [
            "Epoch 1/10\n",
            "60/60 [==============================] - ETA: 0s - loss: 0.7520 - accuracy: 0.6781 WARNING:tensorflow:Learning rate reduction is conditioned on metric `val_acc` which is not available. Available metrics are: loss,accuracy,val_loss,val_accuracy,lr\n",
            "60/60 [==============================] - 1876s 31s/step - loss: 0.7520 - accuracy: 0.6781 - val_loss: 1.3382 - val_accuracy: 0.3990 - lr: 0.0010\n",
            "Epoch 2/10\n",
            "60/60 [==============================] - ETA: 0s - loss: 0.3500 - accuracy: 0.8651 WARNING:tensorflow:Learning rate reduction is conditioned on metric `val_acc` which is not available. Available metrics are: loss,accuracy,val_loss,val_accuracy,lr\n",
            "60/60 [==============================] - 1786s 30s/step - loss: 0.3500 - accuracy: 0.8651 - val_loss: 1.0419 - val_accuracy: 0.6010 - lr: 0.0010\n",
            "Epoch 3/10\n",
            "60/60 [==============================] - ETA: 0s - loss: 0.2028 - accuracy: 0.9494 WARNING:tensorflow:Learning rate reduction is conditioned on metric `val_acc` which is not available. Available metrics are: loss,accuracy,val_loss,val_accuracy,lr\n",
            "60/60 [==============================] - 1782s 30s/step - loss: 0.2028 - accuracy: 0.9494 - val_loss: 2.7163 - val_accuracy: 0.6010 - lr: 0.0010\n",
            "Epoch 4/10\n",
            "60/60 [==============================] - ETA: 0s - loss: 0.1902 - accuracy: 0.9531 WARNING:tensorflow:Learning rate reduction is conditioned on metric `val_acc` which is not available. Available metrics are: loss,accuracy,val_loss,val_accuracy,lr\n",
            "60/60 [==============================] - 1788s 30s/step - loss: 0.1902 - accuracy: 0.9531 - val_loss: 3.2772 - val_accuracy: 0.6010 - lr: 0.0010\n",
            "Epoch 5/10\n",
            "60/60 [==============================] - ETA: 0s - loss: 0.1701 - accuracy: 0.9626 WARNING:tensorflow:Learning rate reduction is conditioned on metric `val_acc` which is not available. Available metrics are: loss,accuracy,val_loss,val_accuracy,lr\n",
            "60/60 [==============================] - 1797s 30s/step - loss: 0.1701 - accuracy: 0.9626 - val_loss: 11.0094 - val_accuracy: 0.6010 - lr: 0.0010\n",
            "Epoch 6/10\n",
            "60/60 [==============================] - ETA: 0s - loss: 0.1646 - accuracy: 0.9621 WARNING:tensorflow:Learning rate reduction is conditioned on metric `val_acc` which is not available. Available metrics are: loss,accuracy,val_loss,val_accuracy,lr\n",
            "60/60 [==============================] - 1802s 30s/step - loss: 0.1646 - accuracy: 0.9621 - val_loss: 54.6917 - val_accuracy: 0.6010 - lr: 0.0010\n",
            "Epoch 7/10\n",
            "60/60 [==============================] - ETA: 0s - loss: 0.1595 - accuracy: 0.9668 WARNING:tensorflow:Learning rate reduction is conditioned on metric `val_acc` which is not available. Available metrics are: loss,accuracy,val_loss,val_accuracy,lr\n",
            "60/60 [==============================] - 1804s 30s/step - loss: 0.1595 - accuracy: 0.9668 - val_loss: 94.0333 - val_accuracy: 0.6010 - lr: 0.0010\n",
            "Epoch 8/10\n",
            "60/60 [==============================] - ETA: 0s - loss: 0.1548 - accuracy: 0.9626 WARNING:tensorflow:Learning rate reduction is conditioned on metric `val_acc` which is not available. Available metrics are: loss,accuracy,val_loss,val_accuracy,lr\n",
            "60/60 [==============================] - 1802s 30s/step - loss: 0.1548 - accuracy: 0.9626 - val_loss: 21.6225 - val_accuracy: 0.6004 - lr: 0.0010\n",
            "Epoch 9/10\n",
            "60/60 [==============================] - ETA: 0s - loss: 0.1661 - accuracy: 0.9642 WARNING:tensorflow:Learning rate reduction is conditioned on metric `val_acc` which is not available. Available metrics are: loss,accuracy,val_loss,val_accuracy,lr\n",
            "60/60 [==============================] - 1801s 30s/step - loss: 0.1661 - accuracy: 0.9642 - val_loss: 5.0255 - val_accuracy: 0.6010 - lr: 0.0010\n",
            "Epoch 10/10\n",
            "60/60 [==============================] - ETA: 0s - loss: 0.1653 - accuracy: 0.9658 WARNING:tensorflow:Learning rate reduction is conditioned on metric `val_acc` which is not available. Available metrics are: loss,accuracy,val_loss,val_accuracy,lr\n",
            "60/60 [==============================] - 1804s 30s/step - loss: 0.1653 - accuracy: 0.9658 - val_loss: 6.8987 - val_accuracy: 0.6010 - lr: 0.0010\n"
          ]
        }
      ]
    },
    {
      "cell_type": "code",
      "metadata": {
        "colab": {
          "base_uri": "https://localhost:8080/",
          "height": 462
        },
        "id": "CSbTV_nHt2v5",
        "outputId": "835c35ec-9419-4069-83b2-02d3e73458b2"
      },
      "source": [
        "plt.figure(figsize=(10,7))\n",
        "plt.plot(history.history['loss'], label='train loss')\n",
        "plt.plot(history.history['val_loss'], label='val loss')\n",
        "plt.plot(history.history['accuracy'], label='train_acc')\n",
        "plt.plot(history.history['val_accuracy'], label='val_acc')\n",
        "plt.title(\"Training Loss and Accuracy on Signature Dataset\")\n",
        "plt.legend()\n",
        "plt.show()\n",
        "plt.savefig('lossval_loss')"
      ],
      "execution_count": 12,
      "outputs": [
        {
          "output_type": "display_data",
          "data": {
            "image/png": "[encoded data removed]",
            "text/plain": [
              "<Figure size 720x504 with 1 Axes>"
            ]
          },
          "metadata": {
            "needs_background": "light"
          }
        },
        {
          "output_type": "display_data",
          "data": {
            "text/plain": [
              "<Figure size 432x288 with 0 Axes>"
            ]
          },
          "metadata": {}
        }
      ]
    },
    {
      "cell_type": "code",
      "metadata": {
        "id": "JCEKYHNDvDL5"
      },
      "source": [
        "from tensorflow.keras.models import load_model\n",
        "\n",
        "model.save('forge_real_signature_model.h5')"
      ],
      "execution_count": 13,
      "outputs": []
    },
    {
      "cell_type": "code",
      "metadata": {
        "colab": {
          "base_uri": "https://localhost:8080/"
        },
        "id": "UCrRIQsrvXQa",
        "outputId": "f30f9c73-ae8f-4230-efa7-f7549a53547c"
      },
      "source": [
        "pred = model.predict(test_generator)\n",
        "pred"
      ],
      "execution_count": 14,
      "outputs": [
        {
          "output_type": "execute_result",
          "data": {
            "text/plain": [
              "array([[9.7266936e-01, 2.7330685e-02],\n",
              "       [1.0000000e+00, 4.9325957e-11],\n",
              "       [1.0000000e+00, 1.2784511e-19],\n",
              "       ...,\n",
              "       [1.0000000e+00, 2.0099073e-17],\n",
              "       [1.0000000e+00, 5.0641395e-16],\n",
              "       [9.8135626e-01, 1.8643674e-02]], dtype=float32)"
            ]
          },
          "metadata": {},
          "execution_count": 14
        }
      ]
    },
    {
      "cell_type": "code",
      "metadata": {
        "colab": {
          "base_uri": "https://localhost:8080/"
        },
        "id": "fOmkZrpavXu8",
        "outputId": "6d14eec5-1e35-4abe-ea61-f975d33cb0e0"
      },
      "source": [
        "pred = np.argmax(pred, axis=1)\n",
        "pred"
      ],
      "execution_count": 15,
      "outputs": [
        {
          "output_type": "execute_result",
          "data": {
            "text/plain": [
              "array([0, 0, 0, ..., 0, 0, 0])"
            ]
          },
          "metadata": {},
          "execution_count": 15
        }
      ]
    },
    {
      "cell_type": "code",
      "metadata": {
        "id": "1GO1WiO2wfgE"
      },
      "source": [
        "model = load_model('forge_real_signature_model.h5')"
      ],
      "execution_count": 16,
      "outputs": []
    },
    {
      "cell_type": "code",
      "metadata": {
        "id": "DfyEHsHIwpOL"
      },
      "source": [
        "from tensorflow.keras.preprocessing import image\n",
        "img = image.load_img('/content/gdrive/MyDrive/Signature Databases/test/Original/NFI-10004035.png', target_size=(512,512))"
      ],
      "execution_count": 20,
      "outputs": []
    },
    {
      "cell_type": "code",
      "metadata": {
        "id": "v22pOxpTxScG"
      },
      "source": [
        "x = image.img_to_array(img)"
      ],
      "execution_count": 21,
      "outputs": []
    },
    {
      "cell_type": "code",
      "metadata": {
        "colab": {
          "base_uri": "https://localhost:8080/"
        },
        "id": "88lTR4VZxS42",
        "outputId": "30e0bf66-f762-4992-b2f8-a06d73601d0b"
      },
      "source": [
        "x = x/255\n",
        "\n",
        "from tensorflow.keras.applications.resnet50 import preprocess_input\n",
        "x=np.expand_dims(x,axis=0)\n",
        "img_data=preprocess_input(x)\n",
        "img_data=rgb2gray(img_data)\n",
        "img_data.shape"
      ],
      "execution_count": 22,
      "outputs": [
        {
          "output_type": "execute_result",
          "data": {
            "text/plain": [
              "(1, 512, 512)"
            ]
          },
          "metadata": {},
          "execution_count": 22
        }
      ]
    },
    {
      "cell_type": "code",
      "metadata": {
        "colab": {
          "base_uri": "https://localhost:8080/"
        },
        "id": "9xV1JDTWxVg1",
        "outputId": "ddf53624-5ec1-47b6-c69c-b4098158fcd0"
      },
      "source": [
        "a=np.argmax(model.predict(img_data), axis=1)\n",
        "if(a==1):\n",
        "    print(\"The signature is not fraud\")\n",
        "else:\n",
        "    print(\"The signature is fraud\")"
      ],
      "execution_count": 23,
      "outputs": [
        {
          "output_type": "stream",
          "name": "stdout",
          "text": [
            "The signature is not fraud\n"
          ]
        }
      ]
    },
    {
      "cell_type": "code",
      "metadata": {
        "colab": {
          "base_uri": "https://localhost:8080/"
        },
        "id": "shY94P4Cxh3A",
        "outputId": "1ed06571-5b6e-45e4-c9fe-509f7f9e39e9"
      },
      "source": [
        "(history.history['val_loss'])"
      ],
      "execution_count": 24,
      "outputs": [
        {
          "output_type": "execute_result",
          "data": {
            "text/plain": [
              "[1.3381880521774292,\n",
              " 1.0418894290924072,\n",
              " 2.7163138389587402,\n",
              " 3.277153253555298,\n",
              " 11.00943374633789,\n",
              " 54.69169616699219,\n",
              " 94.03334045410156,\n",
              " 21.622459411621094,\n",
              " 5.025481700897217,\n",
              " 6.8987298011779785]"
            ]
          },
          "metadata": {},
          "execution_count": 24
        }
      ]
    }
  ]
}